{
  "nbformat": 4,
  "nbformat_minor": 0,
  "metadata": {
    "colab": {
      "name": "Reszisca_Valentiana_10101190702_Project",
      "provenance": [],
      "collapsed_sections": []
    },
    "kernelspec": {
      "name": "python3",
      "display_name": "Python 3"
    }
  },
  "cells": [
    {
      "cell_type": "markdown",
      "metadata": {
        "id": "uOkbH03kML8B"
      },
      "source": [
        "**Membaca file csv**\n",
        "\n",
        "Import pandas. Assign dataset ke dalam variabel kemudian dilakukan pemfilteran agar value pada kolom price tidak berupa NaN, melainkan berupa float."
      ]
    },
    {
      "cell_type": "code",
      "metadata": {
        "colab": {
          "base_uri": "https://localhost:8080/",
          "height": 1000
        },
        "id": "qauoyvWJsihY",
        "outputId": "7b8e3e5c-7fc4-4735-8d66-5768013085f2"
      },
      "source": [
        "import pandas as pd\n",
        "\n",
        "data = pd.read_csv(\"winemag-data-130k-v2.csv\")\n",
        "wine_review = data[pd.notnull(data['price'])]\n",
        "points = data['points']\n",
        "price = wine_review['price']\n",
        "wine_review"
      ],
      "execution_count": null,
      "outputs": [
        {
          "output_type": "execute_result",
          "data": {
            "text/html": [
              "<div>\n",
              "<style scoped>\n",
              "    .dataframe tbody tr th:only-of-type {\n",
              "        vertical-align: middle;\n",
              "    }\n",
              "\n",
              "    .dataframe tbody tr th {\n",
              "        vertical-align: top;\n",
              "    }\n",
              "\n",
              "    .dataframe thead th {\n",
              "        text-align: right;\n",
              "    }\n",
              "</style>\n",
              "<table border=\"1\" class=\"dataframe\">\n",
              "  <thead>\n",
              "    <tr style=\"text-align: right;\">\n",
              "      <th></th>\n",
              "      <th>Unnamed: 0</th>\n",
              "      <th>country</th>\n",
              "      <th>description</th>\n",
              "      <th>designation</th>\n",
              "      <th>points</th>\n",
              "      <th>price</th>\n",
              "      <th>province</th>\n",
              "      <th>region_1</th>\n",
              "      <th>region_2</th>\n",
              "      <th>taster_name</th>\n",
              "      <th>taster_twitter_handle</th>\n",
              "      <th>title</th>\n",
              "      <th>variety</th>\n",
              "      <th>winery</th>\n",
              "    </tr>\n",
              "  </thead>\n",
              "  <tbody>\n",
              "    <tr>\n",
              "      <th>1</th>\n",
              "      <td>1</td>\n",
              "      <td>Portugal</td>\n",
              "      <td>This is ripe and fruity, a wine that is smooth...</td>\n",
              "      <td>Avidagos</td>\n",
              "      <td>87</td>\n",
              "      <td>15.0</td>\n",
              "      <td>Douro</td>\n",
              "      <td>NaN</td>\n",
              "      <td>NaN</td>\n",
              "      <td>Roger Voss</td>\n",
              "      <td>@vossroger</td>\n",
              "      <td>Quinta dos Avidagos 2011 Avidagos Red (Douro)</td>\n",
              "      <td>Portuguese Red</td>\n",
              "      <td>Quinta dos Avidagos</td>\n",
              "    </tr>\n",
              "    <tr>\n",
              "      <th>2</th>\n",
              "      <td>2</td>\n",
              "      <td>US</td>\n",
              "      <td>Tart and snappy, the flavors of lime flesh and...</td>\n",
              "      <td>NaN</td>\n",
              "      <td>87</td>\n",
              "      <td>14.0</td>\n",
              "      <td>Oregon</td>\n",
              "      <td>Willamette Valley</td>\n",
              "      <td>Willamette Valley</td>\n",
              "      <td>Paul Gregutt</td>\n",
              "      <td>@paulgwine</td>\n",
              "      <td>Rainstorm 2013 Pinot Gris (Willamette Valley)</td>\n",
              "      <td>Pinot Gris</td>\n",
              "      <td>Rainstorm</td>\n",
              "    </tr>\n",
              "    <tr>\n",
              "      <th>3</th>\n",
              "      <td>3</td>\n",
              "      <td>US</td>\n",
              "      <td>Pineapple rind, lemon pith and orange blossom ...</td>\n",
              "      <td>Reserve Late Harvest</td>\n",
              "      <td>87</td>\n",
              "      <td>13.0</td>\n",
              "      <td>Michigan</td>\n",
              "      <td>Lake Michigan Shore</td>\n",
              "      <td>NaN</td>\n",
              "      <td>Alexander Peartree</td>\n",
              "      <td>NaN</td>\n",
              "      <td>St. Julian 2013 Reserve Late Harvest Riesling ...</td>\n",
              "      <td>Riesling</td>\n",
              "      <td>St. Julian</td>\n",
              "    </tr>\n",
              "    <tr>\n",
              "      <th>4</th>\n",
              "      <td>4</td>\n",
              "      <td>US</td>\n",
              "      <td>Much like the regular bottling from 2012, this...</td>\n",
              "      <td>Vintner's Reserve Wild Child Block</td>\n",
              "      <td>87</td>\n",
              "      <td>65.0</td>\n",
              "      <td>Oregon</td>\n",
              "      <td>Willamette Valley</td>\n",
              "      <td>Willamette Valley</td>\n",
              "      <td>Paul Gregutt</td>\n",
              "      <td>@paulgwine</td>\n",
              "      <td>Sweet Cheeks 2012 Vintner's Reserve Wild Child...</td>\n",
              "      <td>Pinot Noir</td>\n",
              "      <td>Sweet Cheeks</td>\n",
              "    </tr>\n",
              "    <tr>\n",
              "      <th>5</th>\n",
              "      <td>5</td>\n",
              "      <td>Spain</td>\n",
              "      <td>Blackberry and raspberry aromas show a typical...</td>\n",
              "      <td>Ars In Vitro</td>\n",
              "      <td>87</td>\n",
              "      <td>15.0</td>\n",
              "      <td>Northern Spain</td>\n",
              "      <td>Navarra</td>\n",
              "      <td>NaN</td>\n",
              "      <td>Michael Schachner</td>\n",
              "      <td>@wineschach</td>\n",
              "      <td>Tandem 2011 Ars In Vitro Tempranillo-Merlot (N...</td>\n",
              "      <td>Tempranillo-Merlot</td>\n",
              "      <td>Tandem</td>\n",
              "    </tr>\n",
              "    <tr>\n",
              "      <th>...</th>\n",
              "      <td>...</td>\n",
              "      <td>...</td>\n",
              "      <td>...</td>\n",
              "      <td>...</td>\n",
              "      <td>...</td>\n",
              "      <td>...</td>\n",
              "      <td>...</td>\n",
              "      <td>...</td>\n",
              "      <td>...</td>\n",
              "      <td>...</td>\n",
              "      <td>...</td>\n",
              "      <td>...</td>\n",
              "      <td>...</td>\n",
              "      <td>...</td>\n",
              "    </tr>\n",
              "    <tr>\n",
              "      <th>129966</th>\n",
              "      <td>129966</td>\n",
              "      <td>Germany</td>\n",
              "      <td>Notes of honeysuckle and cantaloupe sweeten th...</td>\n",
              "      <td>Brauneberger Juffer-Sonnenuhr Spätlese</td>\n",
              "      <td>90</td>\n",
              "      <td>28.0</td>\n",
              "      <td>Mosel</td>\n",
              "      <td>NaN</td>\n",
              "      <td>NaN</td>\n",
              "      <td>Anna Lee C. Iijima</td>\n",
              "      <td>NaN</td>\n",
              "      <td>Dr. H. Thanisch (Erben Müller-Burggraef) 2013 ...</td>\n",
              "      <td>Riesling</td>\n",
              "      <td>Dr. H. Thanisch (Erben Müller-Burggraef)</td>\n",
              "    </tr>\n",
              "    <tr>\n",
              "      <th>129967</th>\n",
              "      <td>129967</td>\n",
              "      <td>US</td>\n",
              "      <td>Citation is given as much as a decade of bottl...</td>\n",
              "      <td>NaN</td>\n",
              "      <td>90</td>\n",
              "      <td>75.0</td>\n",
              "      <td>Oregon</td>\n",
              "      <td>Oregon</td>\n",
              "      <td>Oregon Other</td>\n",
              "      <td>Paul Gregutt</td>\n",
              "      <td>@paulgwine</td>\n",
              "      <td>Citation 2004 Pinot Noir (Oregon)</td>\n",
              "      <td>Pinot Noir</td>\n",
              "      <td>Citation</td>\n",
              "    </tr>\n",
              "    <tr>\n",
              "      <th>129968</th>\n",
              "      <td>129968</td>\n",
              "      <td>France</td>\n",
              "      <td>Well-drained gravel soil gives this wine its c...</td>\n",
              "      <td>Kritt</td>\n",
              "      <td>90</td>\n",
              "      <td>30.0</td>\n",
              "      <td>Alsace</td>\n",
              "      <td>Alsace</td>\n",
              "      <td>NaN</td>\n",
              "      <td>Roger Voss</td>\n",
              "      <td>@vossroger</td>\n",
              "      <td>Domaine Gresser 2013 Kritt Gewurztraminer (Als...</td>\n",
              "      <td>Gewürztraminer</td>\n",
              "      <td>Domaine Gresser</td>\n",
              "    </tr>\n",
              "    <tr>\n",
              "      <th>129969</th>\n",
              "      <td>129969</td>\n",
              "      <td>France</td>\n",
              "      <td>A dry style of Pinot Gris, this is crisp with ...</td>\n",
              "      <td>NaN</td>\n",
              "      <td>90</td>\n",
              "      <td>32.0</td>\n",
              "      <td>Alsace</td>\n",
              "      <td>Alsace</td>\n",
              "      <td>NaN</td>\n",
              "      <td>Roger Voss</td>\n",
              "      <td>@vossroger</td>\n",
              "      <td>Domaine Marcel Deiss 2012 Pinot Gris (Alsace)</td>\n",
              "      <td>Pinot Gris</td>\n",
              "      <td>Domaine Marcel Deiss</td>\n",
              "    </tr>\n",
              "    <tr>\n",
              "      <th>129970</th>\n",
              "      <td>129970</td>\n",
              "      <td>France</td>\n",
              "      <td>Big, rich and off-dry, this is powered by inte...</td>\n",
              "      <td>Lieu-dit Harth Cuvée Caroline</td>\n",
              "      <td>90</td>\n",
              "      <td>21.0</td>\n",
              "      <td>Alsace</td>\n",
              "      <td>Alsace</td>\n",
              "      <td>NaN</td>\n",
              "      <td>Roger Voss</td>\n",
              "      <td>@vossroger</td>\n",
              "      <td>Domaine Schoffit 2012 Lieu-dit Harth Cuvée Car...</td>\n",
              "      <td>Gewürztraminer</td>\n",
              "      <td>Domaine Schoffit</td>\n",
              "    </tr>\n",
              "  </tbody>\n",
              "</table>\n",
              "<p>120975 rows × 14 columns</p>\n",
              "</div>"
            ],
            "text/plain": [
              "        Unnamed: 0  ...                                    winery\n",
              "1                1  ...                       Quinta dos Avidagos\n",
              "2                2  ...                                 Rainstorm\n",
              "3                3  ...                                St. Julian\n",
              "4                4  ...                              Sweet Cheeks\n",
              "5                5  ...                                    Tandem\n",
              "...            ...  ...                                       ...\n",
              "129966      129966  ...  Dr. H. Thanisch (Erben Müller-Burggraef)\n",
              "129967      129967  ...                                  Citation\n",
              "129968      129968  ...                           Domaine Gresser\n",
              "129969      129969  ...                      Domaine Marcel Deiss\n",
              "129970      129970  ...                          Domaine Schoffit\n",
              "\n",
              "[120975 rows x 14 columns]"
            ]
          },
          "metadata": {
            "tags": []
          },
          "execution_count": 169
        }
      ]
    },
    {
      "cell_type": "markdown",
      "metadata": {
        "id": "-VW7XXKMM5u-"
      },
      "source": [
        "**Menghitung nilai rata-rata dan standar deviasi dari kolom points dan price**\n",
        "\n",
        "\n",
        "Perhitungan dilakukan menggunakan fungsi yang digunakan pada penugasan yang sudah pernah dikerjakan."
      ]
    },
    {
      "cell_type": "code",
      "metadata": {
        "colab": {
          "base_uri": "https://localhost:8080/"
        },
        "id": "eOeHVfCv6II1",
        "outputId": "94108de9-2e8b-4725-c92d-befc990975a9"
      },
      "source": [
        "import math\n",
        "\n",
        "def mean(x):\n",
        "  avg = sum(x)/len(x)\n",
        "  return avg\n",
        "\n",
        "def number_of_data(x):\n",
        "  num = len(x)\n",
        "  return num\n",
        "\n",
        "def stdev(x):\n",
        "  result = (sum((x - mean(x)) ** 2)) / number_of_data(x)\n",
        "  std = math.sqrt(result)\n",
        "  return std\n",
        "\n",
        "print(\"Rata-rata points adalah\", mean(points))\n",
        "print(\"Rata-rata price adalah\", mean(price))\n",
        "print(\"Standard deviasi points adalah\", stdev(points))\n",
        "print(\"Standard deviasi price adalah\", stdev(price))"
      ],
      "execution_count": null,
      "outputs": [
        {
          "output_type": "stream",
          "text": [
            "Rata-rata points adalah 88.44713820775404\n",
            "Rata-rata price adalah 35.363389129985535\n",
            "Standard deviasi points adalah 3.0397185090150947\n",
            "Standard deviasi price adalah 41.022048119411714\n"
          ],
          "name": "stdout"
        }
      ]
    },
    {
      "cell_type": "markdown",
      "metadata": {
        "id": "j-tg5FsHNUYz"
      },
      "source": [
        "**Menampilkan *distribution plot* untuk kolom points dan price**\n",
        "\n",
        "Import library seaborn dan matplotlib. Lalu menambahkan garis vertikal sepanjang sumbu-y untuk menandakan rata-rata, rata-rata + standar deviasi, dan rata-rata - standar deviasi."
      ]
    },
    {
      "cell_type": "code",
      "metadata": {
        "colab": {
          "base_uri": "https://localhost:8080/",
          "height": 738
        },
        "id": "5OfiCiGjVhUb",
        "outputId": "18d91603-2591-4ec1-c5e2-ef7a12a45be0"
      },
      "source": [
        "import seaborn as sns\n",
        "import matplotlib.pyplot as plt\n",
        "\n",
        "sns.displot(wine_review['points'], color='orange')\n",
        "plt.axvline(x=mean(wine_review['points']), color='teal')\n",
        "plt.axvline(x=mean(wine_review['points']) + stdev(wine_review['points']), color='teal')\n",
        "plt.axvline(x=mean(wine_review['points']) - stdev(wine_review['points']), color='teal')\n",
        "\n",
        "sns.displot(wine_review['price'], color='cornflowerblue')\n",
        "plt.axvline(x=mean(wine_review['price']), linewidth=1, color='maroon')\n",
        "plt.axvline(x=mean(wine_review['price']) + stdev(wine_review['price']), linewidth=1, color='maroon')\n",
        "plt.axvline(x=mean(wine_review['price']) - stdev(wine_review['price']), linewidth=1, color='maroon')"
      ],
      "execution_count": null,
      "outputs": [
        {
          "output_type": "execute_result",
          "data": {
            "text/plain": [
              "<matplotlib.lines.Line2D at 0x7f49a2a4dac8>"
            ]
          },
          "metadata": {
            "tags": []
          },
          "execution_count": 184
        },
        {
          "output_type": "display_data",
          "data": {
            "image/png": "[encoded data removed]",
            "text/plain": [
              "<Figure size 360x360 with 1 Axes>"
            ]
          },
          "metadata": {
            "tags": [],
            "needs_background": "light"
          }
        },
        {
          "output_type": "display_data",
          "data": {
            "image/png": "[encoded data removed]",
            "text/plain": [
              "<Figure size 360x360 with 1 Axes>"
            ]
          },
          "metadata": {
            "tags": [],
            "needs_background": "light"
          }
        }
      ]
    },
    {
      "cell_type": "markdown",
      "metadata": {
        "id": "bNLD_ra8OIwe"
      },
      "source": [
        "**Menampilkan tiga negara dengan jumlah kontribusi wine terbesar**\n",
        "\n",
        "Didapatkan hasil bahwa kontribusi terbesar berasal dari US, kedua dari France, dan ketiga dari Italy. "
      ]
    },
    {
      "cell_type": "code",
      "metadata": {
        "colab": {
          "base_uri": "https://localhost:8080/"
        },
        "id": "CulONmTwbjq2",
        "outputId": "646090bf-018c-452a-e92a-0c897b582885"
      },
      "source": [
        "top_3 = wine_review.groupby('country').size().sort_values(ascending=False).head(3)\n",
        "top_3"
      ],
      "execution_count": null,
      "outputs": [
        {
          "output_type": "execute_result",
          "data": {
            "text/plain": [
              "country\n",
              "US        54265\n",
              "France    17776\n",
              "Italy     16914\n",
              "dtype: int64"
            ]
          },
          "metadata": {
            "tags": []
          },
          "execution_count": 25
        }
      ]
    },
    {
      "cell_type": "markdown",
      "metadata": {
        "id": "JUzFxZXGOg5M"
      },
      "source": [
        "**Pemfilteran dataset oleh 3 negara dengan kontribusi wine terbesar dan points > 96**\n",
        "\n",
        "Dilakukan menggunakan hukum logika AND dan OR."
      ]
    },
    {
      "cell_type": "code",
      "metadata": {
        "colab": {
          "base_uri": "https://localhost:8080/",
          "height": 1000
        },
        "id": "9OmNXQAYhbUQ",
        "outputId": "d23ac0a1-d40c-4ffe-864b-e6e00d99b5c3"
      },
      "source": [
        "wine_review_filtered = wine_review[(\n",
        "    (wine_review['country'] == \"US\") |\n",
        "    (wine_review['country'] == \"France\") |\n",
        "    (wine_review['country'] == \"Italy\")) &\n",
        "    (wine_review['points'] > 96)]\n",
        "\n",
        "wine_review_filtered"
      ],
      "execution_count": null,
      "outputs": [
        {
          "output_type": "execute_result",
          "data": {
            "text/html": [
              "<div>\n",
              "<style scoped>\n",
              "    .dataframe tbody tr th:only-of-type {\n",
              "        vertical-align: middle;\n",
              "    }\n",
              "\n",
              "    .dataframe tbody tr th {\n",
              "        vertical-align: top;\n",
              "    }\n",
              "\n",
              "    .dataframe thead th {\n",
              "        text-align: right;\n",
              "    }\n",
              "</style>\n",
              "<table border=\"1\" class=\"dataframe\">\n",
              "  <thead>\n",
              "    <tr style=\"text-align: right;\">\n",
              "      <th></th>\n",
              "      <th>Unnamed: 0</th>\n",
              "      <th>country</th>\n",
              "      <th>description</th>\n",
              "      <th>designation</th>\n",
              "      <th>points</th>\n",
              "      <th>price</th>\n",
              "      <th>province</th>\n",
              "      <th>region_1</th>\n",
              "      <th>region_2</th>\n",
              "      <th>taster_name</th>\n",
              "      <th>taster_twitter_handle</th>\n",
              "      <th>title</th>\n",
              "      <th>variety</th>\n",
              "      <th>winery</th>\n",
              "    </tr>\n",
              "  </thead>\n",
              "  <tbody>\n",
              "    <tr>\n",
              "      <th>350</th>\n",
              "      <td>350</td>\n",
              "      <td>Italy</td>\n",
              "      <td>After a few minutes in the glass, this stunnin...</td>\n",
              "      <td>Vignolo Riserva</td>\n",
              "      <td>97</td>\n",
              "      <td>150.0</td>\n",
              "      <td>Piedmont</td>\n",
              "      <td>Barolo</td>\n",
              "      <td>NaN</td>\n",
              "      <td>Kerin O’Keefe</td>\n",
              "      <td>@kerinokeefe</td>\n",
              "      <td>Cavallotto 2010 Vignolo Riserva  (Barolo)</td>\n",
              "      <td>Nebbiolo</td>\n",
              "      <td>Cavallotto</td>\n",
              "    </tr>\n",
              "    <tr>\n",
              "      <th>1556</th>\n",
              "      <td>1556</td>\n",
              "      <td>US</td>\n",
              "      <td>The flagship wine from Quilceda Creek offers e...</td>\n",
              "      <td>NaN</td>\n",
              "      <td>99</td>\n",
              "      <td>125.0</td>\n",
              "      <td>Washington</td>\n",
              "      <td>Columbia Valley (WA)</td>\n",
              "      <td>Columbia Valley</td>\n",
              "      <td>Paul Gregutt</td>\n",
              "      <td>@paulgwine</td>\n",
              "      <td>Quilceda Creek 2008 Cabernet Sauvignon (Columb...</td>\n",
              "      <td>Cabernet Sauvignon</td>\n",
              "      <td>Quilceda Creek</td>\n",
              "    </tr>\n",
              "    <tr>\n",
              "      <th>1557</th>\n",
              "      <td>1557</td>\n",
              "      <td>US</td>\n",
              "      <td>A stupendous Pinot Noir, showing how beautiful...</td>\n",
              "      <td>Precious Mountain Vineyard</td>\n",
              "      <td>99</td>\n",
              "      <td>94.0</td>\n",
              "      <td>California</td>\n",
              "      <td>Sonoma Coast</td>\n",
              "      <td>Sonoma</td>\n",
              "      <td>NaN</td>\n",
              "      <td>NaN</td>\n",
              "      <td>Williams Selyem 2009 Precious Mountain Vineyar...</td>\n",
              "      <td>Pinot Noir</td>\n",
              "      <td>Williams Selyem</td>\n",
              "    </tr>\n",
              "    <tr>\n",
              "      <th>1558</th>\n",
              "      <td>1558</td>\n",
              "      <td>France</td>\n",
              "      <td>A massive wine for Margaux, packed with tannin...</td>\n",
              "      <td>NaN</td>\n",
              "      <td>98</td>\n",
              "      <td>1900.0</td>\n",
              "      <td>Bordeaux</td>\n",
              "      <td>Margaux</td>\n",
              "      <td>NaN</td>\n",
              "      <td>Roger Voss</td>\n",
              "      <td>@vossroger</td>\n",
              "      <td>Château Margaux 2009  Margaux</td>\n",
              "      <td>Bordeaux-style Red Blend</td>\n",
              "      <td>Château Margaux</td>\n",
              "    </tr>\n",
              "    <tr>\n",
              "      <th>1559</th>\n",
              "      <td>1559</td>\n",
              "      <td>France</td>\n",
              "      <td>A beautiful wine, with the firmest tannins sur...</td>\n",
              "      <td>NaN</td>\n",
              "      <td>98</td>\n",
              "      <td>380.0</td>\n",
              "      <td>Bordeaux</td>\n",
              "      <td>Margaux</td>\n",
              "      <td>NaN</td>\n",
              "      <td>Roger Voss</td>\n",
              "      <td>@vossroger</td>\n",
              "      <td>Château Palmer 2009  Margaux</td>\n",
              "      <td>Bordeaux-style Red Blend</td>\n",
              "      <td>Château Palmer</td>\n",
              "    </tr>\n",
              "    <tr>\n",
              "      <th>...</th>\n",
              "      <td>...</td>\n",
              "      <td>...</td>\n",
              "      <td>...</td>\n",
              "      <td>...</td>\n",
              "      <td>...</td>\n",
              "      <td>...</td>\n",
              "      <td>...</td>\n",
              "      <td>...</td>\n",
              "      <td>...</td>\n",
              "      <td>...</td>\n",
              "      <td>...</td>\n",
              "      <td>...</td>\n",
              "      <td>...</td>\n",
              "      <td>...</td>\n",
              "    </tr>\n",
              "    <tr>\n",
              "      <th>128265</th>\n",
              "      <td>128265</td>\n",
              "      <td>US</td>\n",
              "      <td>This is nearly perfect, a massive, monumental ...</td>\n",
              "      <td>Reserve</td>\n",
              "      <td>99</td>\n",
              "      <td>100.0</td>\n",
              "      <td>California</td>\n",
              "      <td>Oak Knoll District</td>\n",
              "      <td>Napa</td>\n",
              "      <td>NaN</td>\n",
              "      <td>NaN</td>\n",
              "      <td>Trefethen 2005 Reserve Cabernet Sauvignon (Oak...</td>\n",
              "      <td>Cabernet Sauvignon</td>\n",
              "      <td>Trefethen</td>\n",
              "    </tr>\n",
              "    <tr>\n",
              "      <th>128267</th>\n",
              "      <td>128267</td>\n",
              "      <td>US</td>\n",
              "      <td>An extraordinary wine. It's the essence of Rus...</td>\n",
              "      <td>Gold Ridge</td>\n",
              "      <td>97</td>\n",
              "      <td>85.0</td>\n",
              "      <td>California</td>\n",
              "      <td>Russian River Valley</td>\n",
              "      <td>Sonoma</td>\n",
              "      <td>NaN</td>\n",
              "      <td>NaN</td>\n",
              "      <td>Semper 2007 Gold Ridge Pinot Noir (Russian Riv...</td>\n",
              "      <td>Pinot Noir</td>\n",
              "      <td>Semper</td>\n",
              "    </tr>\n",
              "    <tr>\n",
              "      <th>128268</th>\n",
              "      <td>128268</td>\n",
              "      <td>US</td>\n",
              "      <td>A monumental Cabernet that succeeds on every l...</td>\n",
              "      <td>Estate</td>\n",
              "      <td>97</td>\n",
              "      <td>50.0</td>\n",
              "      <td>California</td>\n",
              "      <td>Oak Knoll District</td>\n",
              "      <td>Napa</td>\n",
              "      <td>NaN</td>\n",
              "      <td>NaN</td>\n",
              "      <td>Trefethen 2005 Estate Cabernet Sauvignon (Oak ...</td>\n",
              "      <td>Cabernet Sauvignon</td>\n",
              "      <td>Trefethen</td>\n",
              "    </tr>\n",
              "    <tr>\n",
              "      <th>128269</th>\n",
              "      <td>128269</td>\n",
              "      <td>US</td>\n",
              "      <td>Massive, dramatic, beautiful, intense, but you...</td>\n",
              "      <td>NaN</td>\n",
              "      <td>97</td>\n",
              "      <td>100.0</td>\n",
              "      <td>California</td>\n",
              "      <td>Napa Valley</td>\n",
              "      <td>Napa</td>\n",
              "      <td>NaN</td>\n",
              "      <td>NaN</td>\n",
              "      <td>Hestan 2006 Cabernet Sauvignon (Napa Valley)</td>\n",
              "      <td>Cabernet Sauvignon</td>\n",
              "      <td>Hestan</td>\n",
              "    </tr>\n",
              "    <tr>\n",
              "      <th>128270</th>\n",
              "      <td>128270</td>\n",
              "      <td>US</td>\n",
              "      <td>Monumentally detailed, this 100% Cabernet Sauv...</td>\n",
              "      <td>NaN</td>\n",
              "      <td>97</td>\n",
              "      <td>65.0</td>\n",
              "      <td>California</td>\n",
              "      <td>St. Helena</td>\n",
              "      <td>Napa</td>\n",
              "      <td>NaN</td>\n",
              "      <td>NaN</td>\n",
              "      <td>Redmon 2006 Cabernet Sauvignon (St. Helena)</td>\n",
              "      <td>Cabernet Sauvignon</td>\n",
              "      <td>Redmon</td>\n",
              "    </tr>\n",
              "  </tbody>\n",
              "</table>\n",
              "<p>272 rows × 14 columns</p>\n",
              "</div>"
            ],
            "text/plain": [
              "        Unnamed: 0 country  ...                   variety           winery\n",
              "350            350   Italy  ...                  Nebbiolo       Cavallotto\n",
              "1556          1556      US  ...        Cabernet Sauvignon   Quilceda Creek\n",
              "1557          1557      US  ...                Pinot Noir  Williams Selyem\n",
              "1558          1558  France  ...  Bordeaux-style Red Blend  Château Margaux\n",
              "1559          1559  France  ...  Bordeaux-style Red Blend   Château Palmer\n",
              "...            ...     ...  ...                       ...              ...\n",
              "128265      128265      US  ...        Cabernet Sauvignon        Trefethen\n",
              "128267      128267      US  ...                Pinot Noir           Semper\n",
              "128268      128268      US  ...        Cabernet Sauvignon        Trefethen\n",
              "128269      128269      US  ...        Cabernet Sauvignon           Hestan\n",
              "128270      128270      US  ...        Cabernet Sauvignon           Redmon\n",
              "\n",
              "[272 rows x 14 columns]"
            ]
          },
          "metadata": {
            "tags": []
          },
          "execution_count": 57
        }
      ]
    },
    {
      "cell_type": "markdown",
      "metadata": {
        "id": "_L6vS0mnPI-T"
      },
      "source": [
        "**Menampilkan *scatter plot* dari hasil filter sebelumnya**"
      ]
    },
    {
      "cell_type": "code",
      "metadata": {
        "colab": {
          "base_uri": "https://localhost:8080/",
          "height": 296
        },
        "id": "lhrGqIxG1A77",
        "outputId": "6dc671ca-0629-4c54-e5c1-311fc5f5559d"
      },
      "source": [
        "sns.scatterplot(x='points', y='price', hue='country', palette=['b', 'darkcyan', 'orange'], data=wine_review_filtered)\n",
        "plt.legend(bbox_to_anchor=(1., 0.), loc=3)"
      ],
      "execution_count": null,
      "outputs": [
        {
          "output_type": "execute_result",
          "data": {
            "text/plain": [
              "<matplotlib.legend.Legend at 0x7f49ab7f40f0>"
            ]
          },
          "metadata": {
            "tags": []
          },
          "execution_count": 129
        },
        {
          "output_type": "display_data",
          "data": {
            "image/png": "[encoded data removed]",
            "text/plain": [
              "<Figure size 432x288 with 1 Axes>"
            ]
          },
          "metadata": {
            "tags": [],
            "needs_background": "light"
          }
        }
      ]
    },
    {
      "cell_type": "markdown",
      "metadata": {
        "id": "CvOczFgHAz1-"
      },
      "source": [
        "**Analisa kekurangan *scatter plot***\n",
        "\n",
        "Kekurangan menggunakan *scatter plot* yaitu bahwa plotnya saling tumpang tindih (*overlap*) sehingga tidak bisa terlihat dengan jelas. *Scatter plot* memberikan visualisasi data yang lebih baik jika dataset nya relatif kecil. \n",
        "\n",
        "Contoh pada points = 97.0, semua points memiliki price yang tidak jauh berbeda (atau bahkan sama) sehingga jarak antar plotnya sangat berdekatan. Atau bisa dikatakan bahwa persebaran plot berdasarkan price sangat berdekatan.\n",
        "\n",
        "Oleh karena itu, *scatter plot*, yang seharusnya terlihat seperti titik, tidak terlihat seperti kumpulan titik, melainkan terlihat seperti 1 garis vertikal yang berbeda warna.\n",
        "\n",
        "Jika diminta untuk menentukan range rata-rata untuk price pada points = 97.0, maka tidak akan bisa dilihat dengan jelas oleh indra penglihatan. Apabila *scatter plot* ini bisa di *zoom in*, maka hasil persebaran price untuk plotnya bisa terlihat lebih jelas.\n"
      ]
    },
    {
      "cell_type": "markdown",
      "metadata": {
        "id": "XUAbZSNLPuT0"
      },
      "source": [
        "**Menampilkan *swarm plot* dari hasil filter yang sebelumnya**\n",
        "\n",
        "Pada *swarm plot* dilakukan pemisahan (dengan split=True) berdasarkan country agar persebaran titik plot bisa terlihat lebih jelas. "
      ]
    },
    {
      "cell_type": "code",
      "metadata": {
        "colab": {
          "base_uri": "https://localhost:8080/",
          "height": 520
        },
        "id": "VwP1UpLadYQk",
        "outputId": "069fa1ce-60d0-4132-958b-36ebedc46b14"
      },
      "source": [
        "sns.swarmplot(x='points', y='price', hue='country', palette='gnuplot2_r', split=True, data=wine_review_filtered)\n",
        "plt.legend(bbox_to_anchor=(1., 0.), loc=3)"
      ],
      "execution_count": null,
      "outputs": [
        {
          "output_type": "stream",
          "text": [
            "/usr/local/lib/python3.6/dist-packages/seaborn/categorical.py:2989: UserWarning: The `split` parameter has been renamed to `dodge`.\n",
            "  warnings.warn(msg, UserWarning)\n",
            "/usr/local/lib/python3.6/dist-packages/seaborn/categorical.py:1296: UserWarning: 47.6% of the points cannot be placed; you may want to decrease the size of the markers or use stripplot.\n",
            "  warnings.warn(msg, UserWarning)\n",
            "/usr/local/lib/python3.6/dist-packages/seaborn/categorical.py:1296: UserWarning: 67.9% of the points cannot be placed; you may want to decrease the size of the markers or use stripplot.\n",
            "  warnings.warn(msg, UserWarning)\n",
            "/usr/local/lib/python3.6/dist-packages/seaborn/categorical.py:1296: UserWarning: 24.0% of the points cannot be placed; you may want to decrease the size of the markers or use stripplot.\n",
            "  warnings.warn(msg, UserWarning)\n",
            "/usr/local/lib/python3.6/dist-packages/seaborn/categorical.py:1296: UserWarning: 42.4% of the points cannot be placed; you may want to decrease the size of the markers or use stripplot.\n",
            "  warnings.warn(msg, UserWarning)\n",
            "/usr/local/lib/python3.6/dist-packages/seaborn/categorical.py:1296: UserWarning: 8.3% of the points cannot be placed; you may want to decrease the size of the markers or use stripplot.\n",
            "  warnings.warn(msg, UserWarning)\n"
          ],
          "name": "stderr"
        },
        {
          "output_type": "execute_result",
          "data": {
            "text/plain": [
              "<matplotlib.legend.Legend at 0x7f49a8f926d8>"
            ]
          },
          "metadata": {
            "tags": []
          },
          "execution_count": 166
        },
        {
          "output_type": "display_data",
          "data": {
            "image/png": "[encoded data removed]",
            "text/plain": [
              "<Figure size 432x288 with 1 Axes>"
            ]
          },
          "metadata": {
            "tags": [],
            "needs_background": "light"
          }
        }
      ]
    },
    {
      "cell_type": "markdown",
      "metadata": {
        "id": "CrV7mB6EQtQN"
      },
      "source": [
        "**Analisa negara dengan kualitas *wine* terbaik dan dan harga termurah**\n",
        "\n",
        "Melihat hasil *swarm plot*, saya mengambil kesimpulan bahwa negara US (pink) merupakan negara yang menghasilkan kualitas wine terbaik dengan harga termurah. Untuk *swarm plot* di atas sudah dilakukan pemfilteran points > 96, maka dapat dikatakan dataset yang digunakan adalah dataset dengan kualitas wine terbaik karena range points nya berada di antara 97 dan 100. \n",
        "\n",
        "Maka kita hanya perlu melihat dari segi harga. Kesimpulan wine harga termurah dapat ditarik dengan melihat negara mana yang mayoritas plotnya mendekati nilai price = 0 atau price kecil. Berikut akan saya berikan penjabaran singkat mengenai harga wine tiap negara. \n",
        "\n",
        "**Italy (kuning):** Mayoritas plot berada pada points 97, 98, dan 99. Mayoritas range harganya berada di bawah 250. Terdapat lebih dari 10 wine yang range harganya di atas 250.\n",
        "\n",
        "**US (pink):** Mayoritas plot berada pada points 97, 98, dan 99.  Mayoritas range harganya berada di bawah 250. Terdapat sekitar 5 wine yang range harganya di atas 250. \n",
        "\n",
        "**France (ungu):** Mayoritas plot berada pada points 97 dan 98. Mayoritas range harganya berada di bawah 750. Terdapat lebih dari 10 wine yang range harganya di atas 750. Terdapat sekitar 5 wine yang range harganya berada di antara 1000 dan 2000. Maksimum price senilai 2000. \n",
        "\n",
        "Dapat dikatakan bahwa France memiliki range harga yang terbesar (standar deviasi besar) maka dari itu negara France terliminasi dari negara dengan kualitas wine terbaik DAN harga termurah.\n",
        "\n",
        "Kini tersisa negara Italy dan US. Dapat dilihat bahwa antara kedua negara ini, *wine* dari negara US jumlahnya lebih banyak dan posisi plotnya lebih mendekati price=0 dibandingkan posisi plot wine negara Italy. Mendekati garis price=0 disini berarti price semakin kecil. Price semakin kecil berarti harga semakin murah. \n",
        "\n",
        "Maka, dapat disimpulkan bahwa berdasarkan gambar *swarm plot*, negara US merupakan negara dengan kualitas wine paling baik dan harga paling murah. \n",
        "\n",
        "Lalu, akan dibuktikan juga dengan menampilkan jumlah data, rata-rata, standar deviasi, persebaran nilai kuartil (bawah, tengah, dan atas), nilai minimum price, dan nilai maksimum price."
      ]
    },
    {
      "cell_type": "markdown",
      "metadata": {
        "id": "EDm9AIZGX_gn"
      },
      "source": [
        "**Pemfilteran masing-masing negara Italy, US, France dengan points >96**\n",
        "\n",
        "Ini dilakukan untuk menampilkan dataset yang sudah difilter untuk dilakukan perbandingan dan membuktikan bahwa negara US merupakan negara yang menghasilkan kualitas wine terbaik dengan harga termurah."
      ]
    },
    {
      "cell_type": "code",
      "metadata": {
        "colab": {
          "base_uri": "https://localhost:8080/"
        },
        "id": "346Bw6DNpcv9",
        "outputId": "beed76b8-ee41-4f0e-af7d-7cf68393a8e9"
      },
      "source": [
        "wine_review_Italy = wine_review[\n",
        "    (wine_review['country'] == \"Italy\") &\n",
        "    (wine_review['points'] > 96)]\n",
        "    \n",
        "wine_review_US = wine_review_filtered[\n",
        "    (wine_review['country'] == \"US\") &\n",
        "    (wine_review['points'] > 96)]\n",
        "\n",
        "wine_review_France = wine_review[\n",
        "    (wine_review['country'] == \"France\") &\n",
        "    (wine_review['points'] > 96)]"
      ],
      "execution_count": null,
      "outputs": [
        {
          "output_type": "stream",
          "text": [
            "/usr/local/lib/python3.6/dist-packages/ipykernel_launcher.py:7: UserWarning: Boolean Series key will be reindexed to match DataFrame index.\n",
            "  import sys\n"
          ],
          "name": "stderr"
        }
      ]
    },
    {
      "cell_type": "code",
      "metadata": {
        "colab": {
          "base_uri": "https://localhost:8080/",
          "height": 297
        },
        "id": "kIDloADvqnS2",
        "outputId": "92358f2e-cdd4-4cbc-db14-e0f243a7c15a"
      },
      "source": [
        "wine_review_Italy.describe()"
      ],
      "execution_count": null,
      "outputs": [
        {
          "output_type": "execute_result",
          "data": {
            "text/html": [
              "<div>\n",
              "<style scoped>\n",
              "    .dataframe tbody tr th:only-of-type {\n",
              "        vertical-align: middle;\n",
              "    }\n",
              "\n",
              "    .dataframe tbody tr th {\n",
              "        vertical-align: top;\n",
              "    }\n",
              "\n",
              "    .dataframe thead th {\n",
              "        text-align: right;\n",
              "    }\n",
              "</style>\n",
              "<table border=\"1\" class=\"dataframe\">\n",
              "  <thead>\n",
              "    <tr style=\"text-align: right;\">\n",
              "      <th></th>\n",
              "      <th>Unnamed: 0</th>\n",
              "      <th>points</th>\n",
              "      <th>price</th>\n",
              "    </tr>\n",
              "  </thead>\n",
              "  <tbody>\n",
              "    <tr>\n",
              "      <th>count</th>\n",
              "      <td>67.000000</td>\n",
              "      <td>67.000000</td>\n",
              "      <td>67.000000</td>\n",
              "    </tr>\n",
              "    <tr>\n",
              "      <th>mean</th>\n",
              "      <td>66127.358209</td>\n",
              "      <td>97.626866</td>\n",
              "      <td>199.044776</td>\n",
              "    </tr>\n",
              "    <tr>\n",
              "      <th>std</th>\n",
              "      <td>41851.509520</td>\n",
              "      <td>0.934780</td>\n",
              "      <td>135.317184</td>\n",
              "    </tr>\n",
              "    <tr>\n",
              "      <th>min</th>\n",
              "      <td>350.000000</td>\n",
              "      <td>97.000000</td>\n",
              "      <td>55.000000</td>\n",
              "    </tr>\n",
              "    <tr>\n",
              "      <th>25%</th>\n",
              "      <td>35518.000000</td>\n",
              "      <td>97.000000</td>\n",
              "      <td>95.500000</td>\n",
              "    </tr>\n",
              "    <tr>\n",
              "      <th>50%</th>\n",
              "      <td>54299.000000</td>\n",
              "      <td>97.000000</td>\n",
              "      <td>170.000000</td>\n",
              "    </tr>\n",
              "    <tr>\n",
              "      <th>75%</th>\n",
              "      <td>109408.500000</td>\n",
              "      <td>98.000000</td>\n",
              "      <td>245.000000</td>\n",
              "    </tr>\n",
              "    <tr>\n",
              "      <th>max</th>\n",
              "      <td>122937.000000</td>\n",
              "      <td>100.000000</td>\n",
              "      <td>595.000000</td>\n",
              "    </tr>\n",
              "  </tbody>\n",
              "</table>\n",
              "</div>"
            ],
            "text/plain": [
              "          Unnamed: 0      points       price\n",
              "count      67.000000   67.000000   67.000000\n",
              "mean    66127.358209   97.626866  199.044776\n",
              "std     41851.509520    0.934780  135.317184\n",
              "min       350.000000   97.000000   55.000000\n",
              "25%     35518.000000   97.000000   95.500000\n",
              "50%     54299.000000   97.000000  170.000000\n",
              "75%    109408.500000   98.000000  245.000000\n",
              "max    122937.000000  100.000000  595.000000"
            ]
          },
          "metadata": {
            "tags": []
          },
          "execution_count": 145
        }
      ]
    },
    {
      "cell_type": "code",
      "metadata": {
        "colab": {
          "base_uri": "https://localhost:8080/",
          "height": 297
        },
        "id": "CUjcxV3gqA80",
        "outputId": "aef8cb12-8310-459b-92b1-c6e873598583"
      },
      "source": [
        "wine_review_US.describe()"
      ],
      "execution_count": null,
      "outputs": [
        {
          "output_type": "execute_result",
          "data": {
            "text/html": [
              "<div>\n",
              "<style scoped>\n",
              "    .dataframe tbody tr th:only-of-type {\n",
              "        vertical-align: middle;\n",
              "    }\n",
              "\n",
              "    .dataframe tbody tr th {\n",
              "        vertical-align: top;\n",
              "    }\n",
              "\n",
              "    .dataframe thead th {\n",
              "        text-align: right;\n",
              "    }\n",
              "</style>\n",
              "<table border=\"1\" class=\"dataframe\">\n",
              "  <thead>\n",
              "    <tr style=\"text-align: right;\">\n",
              "      <th></th>\n",
              "      <th>Unnamed: 0</th>\n",
              "      <th>points</th>\n",
              "      <th>price</th>\n",
              "    </tr>\n",
              "  </thead>\n",
              "  <tbody>\n",
              "    <tr>\n",
              "      <th>count</th>\n",
              "      <td>130.000000</td>\n",
              "      <td>130.000000</td>\n",
              "      <td>130.000000</td>\n",
              "    </tr>\n",
              "    <tr>\n",
              "      <th>mean</th>\n",
              "      <td>79650.523077</td>\n",
              "      <td>97.530769</td>\n",
              "      <td>135.815385</td>\n",
              "    </tr>\n",
              "    <tr>\n",
              "      <th>std</th>\n",
              "      <td>40191.043424</td>\n",
              "      <td>0.789352</td>\n",
              "      <td>102.075043</td>\n",
              "    </tr>\n",
              "    <tr>\n",
              "      <th>min</th>\n",
              "      <td>1556.000000</td>\n",
              "      <td>97.000000</td>\n",
              "      <td>35.000000</td>\n",
              "    </tr>\n",
              "    <tr>\n",
              "      <th>25%</th>\n",
              "      <td>45799.250000</td>\n",
              "      <td>97.000000</td>\n",
              "      <td>75.000000</td>\n",
              "    </tr>\n",
              "    <tr>\n",
              "      <th>50%</th>\n",
              "      <td>83462.500000</td>\n",
              "      <td>97.000000</td>\n",
              "      <td>100.000000</td>\n",
              "    </tr>\n",
              "    <tr>\n",
              "      <th>75%</th>\n",
              "      <td>117141.750000</td>\n",
              "      <td>98.000000</td>\n",
              "      <td>150.000000</td>\n",
              "    </tr>\n",
              "    <tr>\n",
              "      <th>max</th>\n",
              "      <td>128270.000000</td>\n",
              "      <td>100.000000</td>\n",
              "      <td>625.000000</td>\n",
              "    </tr>\n",
              "  </tbody>\n",
              "</table>\n",
              "</div>"
            ],
            "text/plain": [
              "          Unnamed: 0      points       price\n",
              "count     130.000000  130.000000  130.000000\n",
              "mean    79650.523077   97.530769  135.815385\n",
              "std     40191.043424    0.789352  102.075043\n",
              "min      1556.000000   97.000000   35.000000\n",
              "25%     45799.250000   97.000000   75.000000\n",
              "50%     83462.500000   97.000000  100.000000\n",
              "75%    117141.750000   98.000000  150.000000\n",
              "max    128270.000000  100.000000  625.000000"
            ]
          },
          "metadata": {
            "tags": []
          },
          "execution_count": 146
        }
      ]
    },
    {
      "cell_type": "code",
      "metadata": {
        "colab": {
          "base_uri": "https://localhost:8080/",
          "height": 297
        },
        "id": "zVUVgrggql3O",
        "outputId": "1acdf654-7845-4f22-f131-784ecc400f27"
      },
      "source": [
        "wine_review_France.describe()"
      ],
      "execution_count": null,
      "outputs": [
        {
          "output_type": "execute_result",
          "data": {
            "text/html": [
              "<div>\n",
              "<style scoped>\n",
              "    .dataframe tbody tr th:only-of-type {\n",
              "        vertical-align: middle;\n",
              "    }\n",
              "\n",
              "    .dataframe tbody tr th {\n",
              "        vertical-align: top;\n",
              "    }\n",
              "\n",
              "    .dataframe thead th {\n",
              "        text-align: right;\n",
              "    }\n",
              "</style>\n",
              "<table border=\"1\" class=\"dataframe\">\n",
              "  <thead>\n",
              "    <tr style=\"text-align: right;\">\n",
              "      <th></th>\n",
              "      <th>Unnamed: 0</th>\n",
              "      <th>points</th>\n",
              "      <th>price</th>\n",
              "    </tr>\n",
              "  </thead>\n",
              "  <tbody>\n",
              "    <tr>\n",
              "      <th>count</th>\n",
              "      <td>75.000000</td>\n",
              "      <td>75.000000</td>\n",
              "      <td>75.000000</td>\n",
              "    </tr>\n",
              "    <tr>\n",
              "      <th>mean</th>\n",
              "      <td>66515.720000</td>\n",
              "      <td>97.586667</td>\n",
              "      <td>419.506667</td>\n",
              "    </tr>\n",
              "    <tr>\n",
              "      <th>std</th>\n",
              "      <td>39281.307282</td>\n",
              "      <td>0.987672</td>\n",
              "      <td>405.211302</td>\n",
              "    </tr>\n",
              "    <tr>\n",
              "      <th>min</th>\n",
              "      <td>1558.000000</td>\n",
              "      <td>97.000000</td>\n",
              "      <td>45.000000</td>\n",
              "    </tr>\n",
              "    <tr>\n",
              "      <th>25%</th>\n",
              "      <td>36531.000000</td>\n",
              "      <td>97.000000</td>\n",
              "      <td>132.000000</td>\n",
              "    </tr>\n",
              "    <tr>\n",
              "      <th>50%</th>\n",
              "      <td>58352.000000</td>\n",
              "      <td>97.000000</td>\n",
              "      <td>305.000000</td>\n",
              "    </tr>\n",
              "    <tr>\n",
              "      <th>75%</th>\n",
              "      <td>100001.500000</td>\n",
              "      <td>98.000000</td>\n",
              "      <td>555.000000</td>\n",
              "    </tr>\n",
              "    <tr>\n",
              "      <th>max</th>\n",
              "      <td>122948.000000</td>\n",
              "      <td>100.000000</td>\n",
              "      <td>2000.000000</td>\n",
              "    </tr>\n",
              "  </tbody>\n",
              "</table>\n",
              "</div>"
            ],
            "text/plain": [
              "          Unnamed: 0      points        price\n",
              "count      75.000000   75.000000    75.000000\n",
              "mean    66515.720000   97.586667   419.506667\n",
              "std     39281.307282    0.987672   405.211302\n",
              "min      1558.000000   97.000000    45.000000\n",
              "25%     36531.000000   97.000000   132.000000\n",
              "50%     58352.000000   97.000000   305.000000\n",
              "75%    100001.500000   98.000000   555.000000\n",
              "max    122948.000000  100.000000  2000.000000"
            ]
          },
          "metadata": {
            "tags": []
          },
          "execution_count": 147
        }
      ]
    },
    {
      "cell_type": "markdown",
      "metadata": {
        "id": "SYWSTAjUZ5JP"
      },
      "source": [
        "**Lanjutan analisa negara dengan kualitas wine terbaik dan harga termurah**\n",
        "\n",
        "Dapat dilihat dari data-data tiga negara di atas bahwa negara US memiliki nilai yang terkecil dibanding negara Italy dan France, kecuali di bagian count.\n",
        "\n",
        "Count disini berarti jumlah wine yang diproduksi. Sudah ditampilkan juga sebelumnya bahwa US merupakan negara penghasil wine terbesar di dataset ini. Membuktikan bahwa mayoritas wine dari US tergolong murah. \n",
        "\n",
        "Dengan nilai rata-rata dan standar deviasi yang kecil, persebaran harga wine dari US sangat dekat dan membuktikan bahwa di *swarm plot* terdapat banyak plot yang sangat berdekatan di area price < 250. \n",
        "\n",
        "Lalu, dapat dilihat juga bahwa harga maksimum negara US merupakan yang terkecil di antara ketiga negara tersebut. \n",
        "\n",
        "Oleh karena itu, terbukti bahwa US memang negara yang menghaislkan kualitas wine terbaik dengan harga termurah."
      ]
    },
    {
      "cell_type": "markdown",
      "metadata": {
        "id": "4HroUfKzhnLL"
      },
      "source": [
        "**Menampilkan *scatter plot* untuk variety wine dari negara US**"
      ]
    },
    {
      "cell_type": "code",
      "metadata": {
        "colab": {
          "base_uri": "https://localhost:8080/",
          "height": 296
        },
        "id": "4-jKO1bbrQXX",
        "outputId": "10b40a98-89e8-4be1-cae5-d8175171016a"
      },
      "source": [
        "sns.scatterplot(x='points', y='price', hue='variety', data=wine_review_US)\n",
        "plt.legend(bbox_to_anchor=(1., 0.), loc=3)"
      ],
      "execution_count": null,
      "outputs": [
        {
          "output_type": "execute_result",
          "data": {
            "text/plain": [
              "<matplotlib.legend.Legend at 0x7f49a6aa4d68>"
            ]
          },
          "metadata": {
            "tags": []
          },
          "execution_count": 150
        },
        {
          "output_type": "display_data",
          "data": {
            "image/png": "[encoded data removed]",
            "text/plain": [
              "<Figure size 432x288 with 1 Axes>"
            ]
          },
          "metadata": {
            "tags": [],
            "needs_background": "light"
          }
        }
      ]
    },
    {
      "cell_type": "markdown",
      "metadata": {
        "id": "dz55Rwqxh-8z"
      },
      "source": [
        "**Menampilkan *swamp plot* untuk variety wine dari negara US**"
      ]
    },
    {
      "cell_type": "code",
      "metadata": {
        "colab": {
          "base_uri": "https://localhost:8080/",
          "height": 350
        },
        "id": "dWFrssN5-idf",
        "outputId": "ebb7fc76-af5e-4108-e6be-5bf3859e3e70"
      },
      "source": [
        "sns.swarmplot(x='points', y='price', hue='variety', data=wine_review_US)\n",
        "plt.legend(bbox_to_anchor=(1., 0.), loc=3)"
      ],
      "execution_count": null,
      "outputs": [
        {
          "output_type": "stream",
          "text": [
            "/usr/local/lib/python3.6/dist-packages/seaborn/categorical.py:1296: UserWarning: 7.4% of the points cannot be placed; you may want to decrease the size of the markers or use stripplot.\n",
            "  warnings.warn(msg, UserWarning)\n"
          ],
          "name": "stderr"
        },
        {
          "output_type": "execute_result",
          "data": {
            "text/plain": [
              "<matplotlib.legend.Legend at 0x7f49ab22e4e0>"
            ]
          },
          "metadata": {
            "tags": []
          },
          "execution_count": 167
        },
        {
          "output_type": "display_data",
          "data": {
            "image/png": "[encoded data removed]",
            "text/plain": [
              "<Figure size 432x288 with 1 Axes>"
            ]
          },
          "metadata": {
            "tags": [],
            "needs_background": "light"
          }
        }
      ]
    },
    {
      "cell_type": "markdown",
      "metadata": {
        "id": "rVXTcrxdiG7x"
      },
      "source": [
        "**Analisa varietas wine dari US yang memiliki kualitas terbaik dan harga termurah**\n",
        "\n",
        "Melihat hasil *swarm plot*, saya mengambil kesimpulan bahwa varietas Syrah merupakan varietas dari US yang menghasilkan wine kualitas terbaik dengan harga termurah. Untuk *swarm plot* di atas sudah dilakukan pemfilteran points > 96, maka dapat dikatakan dataset yang digunakan adalah dataset dengan kualitas wine terbaik karena range points nya berada di antara 97 dan 100. \n",
        "\n",
        "Maka kita hanya perlu melihat dari segi harga. Kesimpulan varietas wine harga termurah dapat ditarik dengan melihat plot varietas mana yang mayoritas plotnya mendekati nilai price = 0 atau price kecil.\n",
        "\n",
        "Dapat dilihat bahwa di antara keseluruhan varietas yang ada, posisi plot varietas Syrah lebih mendekati garis price=0 dibandingkan posisi plot varietas lainnya. Mendekati garis price=0 disini berarti price semakin kecil. Price semakin kecil berarti harga semakin murah. Selain itu, persebaran range harga nya tidak terlalu besar (standar deviasi cenderung kecil) karena nilai maksimum price < 200. Nilai rata-rata dari varietas ini juga merupakan yang terkecil.\n",
        "\n",
        "Maka, dapat disimpulkan bahwa berdasarkan gambar *swarm plot*, varietas Syrah dari US merupakan varietas wine dengan kualitas paling baik dan harga paling murah. "
      ]
    }
  ]
}